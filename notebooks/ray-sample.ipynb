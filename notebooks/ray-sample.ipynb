{
 "cells": [
  {
   "cell_type": "code",
   "execution_count": null,
   "metadata": {},
   "outputs": [],
   "source": [
    "import ray\r\n",
    "ray.init()"
   ]
  },
  {
   "cell_type": "markdown",
   "metadata": {},
   "source": []
  },
  {
   "cell_type": "code",
   "execution_count": null,
   "metadata": {},
   "outputs": [],
   "source": [
    "@ray.remote\r\n",
    "def f(x):\r\n",
    "    return x * x"
   ]
  },
  {
   "cell_type": "code",
   "execution_count": null,
   "metadata": {},
   "outputs": [],
   "source": [
    "futures = [f.remote(i) for i in range(4)]\r\n",
    "print(ray.get(futures))"
   ]
  },
  {
   "cell_type": "code",
   "execution_count": null,
   "metadata": {},
   "outputs": [],
   "source": [
    "@ray.remote\r\n",
    "class Counter(object):\r\n",
    "    def __init__(self):\r\n",
    "        self.n = 0\r\n",
    "    def increment(self):\r\n",
    "        self.n += 1\r\n",
    "    def read(self):\r\n",
    "        return self.n"
   ]
  },
  {
   "cell_type": "code",
   "execution_count": null,
   "metadata": {},
   "outputs": [],
   "source": [
    "counters = [Counter.remote() for i in range(4)]\r\n",
    "[c.increment.remote() for c in counters]\r\n",
    "futures = [c.read.remote() for c in counters]\r\n",
    "print(ray.get(futures))"
   ]
  }
 ],
 "metadata": {
  "kernelspec": {
   "display_name": "Python 3.8.2 64-bit",
   "name": "python382jvsc74a57bd0bd212a27ef95fc14d0ce2083090ba9bdf6b03cccd6b3656fb7fd4dca2a449d1f"
  },
  "language_info": {
   "codemirror_mode": {
    "name": "ipython",
    "version": 3
   },
   "file_extension": ".py",
   "mimetype": "text/x-python",
   "name": "python",
   "nbconvert_exporter": "python",
   "pygments_lexer": "ipython3",
   "version": "3.8.2"
  },
  "metadata": {
   "interpreter": {
    "hash": "bd212a27ef95fc14d0ce2083090ba9bdf6b03cccd6b3656fb7fd4dca2a449d1f"
   }
  },
  "orig_nbformat": 2
 },
 "nbformat": 4,
 "nbformat_minor": 2
}
